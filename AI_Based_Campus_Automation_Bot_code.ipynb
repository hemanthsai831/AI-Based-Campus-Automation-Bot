{
  "nbformat": 4,
  "nbformat_minor": 0,
  "metadata": {
    "colab": {
      "provenance": [],
      "authorship_tag": "ABX9TyNLZRcfsBlFN0dcqkMaXQdG",
      "include_colab_link": true
    },
    "kernelspec": {
      "name": "python3",
      "display_name": "Python 3"
    },
    "language_info": {
      "name": "python"
    },
    "widgets": {
      "application/vnd.jupyter.widget-state+json": {
        "4b26bbad55bc47a8bdb37de6b5adada5": {
          "model_module": "@jupyter-widgets/controls",
          "model_name": "DropdownModel",
          "model_module_version": "1.5.0",
          "state": {
            "_dom_classes": [],
            "_model_module": "@jupyter-widgets/controls",
            "_model_module_version": "1.5.0",
            "_model_name": "DropdownModel",
            "_options_labels": [
              "Select an option",
              "1. Show Class Schedule",
              "2. Campus News",
              "3. Faculty Contact",
              "4. Exit"
            ],
            "_view_count": null,
            "_view_module": "@jupyter-widgets/controls",
            "_view_module_version": "1.5.0",
            "_view_name": "DropdownView",
            "description": "Choose:",
            "description_tooltip": null,
            "disabled": false,
            "index": 1,
            "layout": "IPY_MODEL_9d9ff4b60c5c4af581adf72539100129",
            "style": "IPY_MODEL_368e9beaeb154328aec9b8bdd6e1a1f0"
          }
        },
        "9d9ff4b60c5c4af581adf72539100129": {
          "model_module": "@jupyter-widgets/base",
          "model_name": "LayoutModel",
          "model_module_version": "1.2.0",
          "state": {
            "_model_module": "@jupyter-widgets/base",
            "_model_module_version": "1.2.0",
            "_model_name": "LayoutModel",
            "_view_count": null,
            "_view_module": "@jupyter-widgets/base",
            "_view_module_version": "1.2.0",
            "_view_name": "LayoutView",
            "align_content": null,
            "align_items": null,
            "align_self": null,
            "border": null,
            "bottom": null,
            "display": null,
            "flex": null,
            "flex_flow": null,
            "grid_area": null,
            "grid_auto_columns": null,
            "grid_auto_flow": null,
            "grid_auto_rows": null,
            "grid_column": null,
            "grid_gap": null,
            "grid_row": null,
            "grid_template_areas": null,
            "grid_template_columns": null,
            "grid_template_rows": null,
            "height": null,
            "justify_content": null,
            "justify_items": null,
            "left": null,
            "margin": null,
            "max_height": null,
            "max_width": null,
            "min_height": null,
            "min_width": null,
            "object_fit": null,
            "object_position": null,
            "order": null,
            "overflow": null,
            "overflow_x": null,
            "overflow_y": null,
            "padding": null,
            "right": null,
            "top": null,
            "visibility": null,
            "width": "60%"
          }
        },
        "368e9beaeb154328aec9b8bdd6e1a1f0": {
          "model_module": "@jupyter-widgets/controls",
          "model_name": "DescriptionStyleModel",
          "model_module_version": "1.5.0",
          "state": {
            "_model_module": "@jupyter-widgets/controls",
            "_model_module_version": "1.5.0",
            "_model_name": "DescriptionStyleModel",
            "_view_count": null,
            "_view_module": "@jupyter-widgets/base",
            "_view_module_version": "1.2.0",
            "_view_name": "StyleView",
            "description_width": "initial"
          }
        },
        "00b02f043b3c442a89e47b77ea9a3f89": {
          "model_module": "@jupyter-widgets/output",
          "model_name": "OutputModel",
          "model_module_version": "1.0.0",
          "state": {
            "_dom_classes": [],
            "_model_module": "@jupyter-widgets/output",
            "_model_module_version": "1.0.0",
            "_model_name": "OutputModel",
            "_view_count": null,
            "_view_module": "@jupyter-widgets/output",
            "_view_module_version": "1.0.0",
            "_view_name": "OutputView",
            "layout": "IPY_MODEL_d1a46dff137d4feea33cf3ef7a6b2dcb",
            "msg_id": "",
            "outputs": [
              {
                "output_type": "stream",
                "name": "stdout",
                "text": [
                  "📅 Class Schedule\n"
                ]
              },
              {
                "output_type": "display_data",
                "data": {
                  "text/plain": "Dropdown(description='Day:', options=('Monday', 'Tuesday', 'Wednesday', 'Thursday', 'Friday'), value='Monday')",
                  "application/vnd.jupyter.widget-view+json": {
                    "version_major": 2,
                    "version_minor": 0,
                    "model_id": "540ac22339654c398db62653e0142299"
                  }
                },
                "metadata": {}
              },
              {
                "output_type": "display_data",
                "data": {
                  "text/plain": "Button(description='Show Schedule', style=ButtonStyle())",
                  "application/vnd.jupyter.widget-view+json": {
                    "version_major": 2,
                    "version_minor": 0,
                    "model_id": "f58f8c543a3d4ecf9e90ef198c88c24e"
                  }
                },
                "metadata": {}
              }
            ]
          }
        },
        "d1a46dff137d4feea33cf3ef7a6b2dcb": {
          "model_module": "@jupyter-widgets/base",
          "model_name": "LayoutModel",
          "model_module_version": "1.2.0",
          "state": {
            "_model_module": "@jupyter-widgets/base",
            "_model_module_version": "1.2.0",
            "_model_name": "LayoutModel",
            "_view_count": null,
            "_view_module": "@jupyter-widgets/base",
            "_view_module_version": "1.2.0",
            "_view_name": "LayoutView",
            "align_content": null,
            "align_items": null,
            "align_self": null,
            "border": null,
            "bottom": null,
            "display": null,
            "flex": null,
            "flex_flow": null,
            "grid_area": null,
            "grid_auto_columns": null,
            "grid_auto_flow": null,
            "grid_auto_rows": null,
            "grid_column": null,
            "grid_gap": null,
            "grid_row": null,
            "grid_template_areas": null,
            "grid_template_columns": null,
            "grid_template_rows": null,
            "height": null,
            "justify_content": null,
            "justify_items": null,
            "left": null,
            "margin": null,
            "max_height": null,
            "max_width": null,
            "min_height": null,
            "min_width": null,
            "object_fit": null,
            "object_position": null,
            "order": null,
            "overflow": null,
            "overflow_x": null,
            "overflow_y": null,
            "padding": null,
            "right": null,
            "top": null,
            "visibility": null,
            "width": null
          }
        },
        "540ac22339654c398db62653e0142299": {
          "model_module": "@jupyter-widgets/controls",
          "model_name": "DropdownModel",
          "model_module_version": "1.5.0",
          "state": {
            "_dom_classes": [],
            "_model_module": "@jupyter-widgets/controls",
            "_model_module_version": "1.5.0",
            "_model_name": "DropdownModel",
            "_options_labels": [
              "Monday",
              "Tuesday",
              "Wednesday",
              "Thursday",
              "Friday"
            ],
            "_view_count": null,
            "_view_module": "@jupyter-widgets/controls",
            "_view_module_version": "1.5.0",
            "_view_name": "DropdownView",
            "description": "Day:",
            "description_tooltip": null,
            "disabled": false,
            "index": 0,
            "layout": "IPY_MODEL_d9807fbb4c604284b588437e7cadcf2e",
            "style": "IPY_MODEL_6b3ed45abc534ba8b40d04c2c2c8a7b5"
          }
        },
        "d9807fbb4c604284b588437e7cadcf2e": {
          "model_module": "@jupyter-widgets/base",
          "model_name": "LayoutModel",
          "model_module_version": "1.2.0",
          "state": {
            "_model_module": "@jupyter-widgets/base",
            "_model_module_version": "1.2.0",
            "_model_name": "LayoutModel",
            "_view_count": null,
            "_view_module": "@jupyter-widgets/base",
            "_view_module_version": "1.2.0",
            "_view_name": "LayoutView",
            "align_content": null,
            "align_items": null,
            "align_self": null,
            "border": null,
            "bottom": null,
            "display": null,
            "flex": null,
            "flex_flow": null,
            "grid_area": null,
            "grid_auto_columns": null,
            "grid_auto_flow": null,
            "grid_auto_rows": null,
            "grid_column": null,
            "grid_gap": null,
            "grid_row": null,
            "grid_template_areas": null,
            "grid_template_columns": null,
            "grid_template_rows": null,
            "height": null,
            "justify_content": null,
            "justify_items": null,
            "left": null,
            "margin": null,
            "max_height": null,
            "max_width": null,
            "min_height": null,
            "min_width": null,
            "object_fit": null,
            "object_position": null,
            "order": null,
            "overflow": null,
            "overflow_x": null,
            "overflow_y": null,
            "padding": null,
            "right": null,
            "top": null,
            "visibility": null,
            "width": null
          }
        },
        "6b3ed45abc534ba8b40d04c2c2c8a7b5": {
          "model_module": "@jupyter-widgets/controls",
          "model_name": "DescriptionStyleModel",
          "model_module_version": "1.5.0",
          "state": {
            "_model_module": "@jupyter-widgets/controls",
            "_model_module_version": "1.5.0",
            "_model_name": "DescriptionStyleModel",
            "_view_count": null,
            "_view_module": "@jupyter-widgets/base",
            "_view_module_version": "1.2.0",
            "_view_name": "StyleView",
            "description_width": ""
          }
        },
        "f58f8c543a3d4ecf9e90ef198c88c24e": {
          "model_module": "@jupyter-widgets/controls",
          "model_name": "ButtonModel",
          "model_module_version": "1.5.0",
          "state": {
            "_dom_classes": [],
            "_model_module": "@jupyter-widgets/controls",
            "_model_module_version": "1.5.0",
            "_model_name": "ButtonModel",
            "_view_count": null,
            "_view_module": "@jupyter-widgets/controls",
            "_view_module_version": "1.5.0",
            "_view_name": "ButtonView",
            "button_style": "",
            "description": "Show Schedule",
            "disabled": false,
            "icon": "",
            "layout": "IPY_MODEL_3abf7098f21c48739c0fd7edb533026b",
            "style": "IPY_MODEL_5681f1e4a7754a089263da1dae43ddf5",
            "tooltip": ""
          }
        },
        "3abf7098f21c48739c0fd7edb533026b": {
          "model_module": "@jupyter-widgets/base",
          "model_name": "LayoutModel",
          "model_module_version": "1.2.0",
          "state": {
            "_model_module": "@jupyter-widgets/base",
            "_model_module_version": "1.2.0",
            "_model_name": "LayoutModel",
            "_view_count": null,
            "_view_module": "@jupyter-widgets/base",
            "_view_module_version": "1.2.0",
            "_view_name": "LayoutView",
            "align_content": null,
            "align_items": null,
            "align_self": null,
            "border": null,
            "bottom": null,
            "display": null,
            "flex": null,
            "flex_flow": null,
            "grid_area": null,
            "grid_auto_columns": null,
            "grid_auto_flow": null,
            "grid_auto_rows": null,
            "grid_column": null,
            "grid_gap": null,
            "grid_row": null,
            "grid_template_areas": null,
            "grid_template_columns": null,
            "grid_template_rows": null,
            "height": null,
            "justify_content": null,
            "justify_items": null,
            "left": null,
            "margin": null,
            "max_height": null,
            "max_width": null,
            "min_height": null,
            "min_width": null,
            "object_fit": null,
            "object_position": null,
            "order": null,
            "overflow": null,
            "overflow_x": null,
            "overflow_y": null,
            "padding": null,
            "right": null,
            "top": null,
            "visibility": null,
            "width": null
          }
        },
        "5681f1e4a7754a089263da1dae43ddf5": {
          "model_module": "@jupyter-widgets/controls",
          "model_name": "ButtonStyleModel",
          "model_module_version": "1.5.0",
          "state": {
            "_model_module": "@jupyter-widgets/controls",
            "_model_module_version": "1.5.0",
            "_model_name": "ButtonStyleModel",
            "_view_count": null,
            "_view_module": "@jupyter-widgets/base",
            "_view_module_version": "1.2.0",
            "_view_name": "StyleView",
            "button_color": null,
            "font_weight": ""
          }
        }
      }
    }
  },
  "cells": [
    {
      "cell_type": "markdown",
      "metadata": {
        "id": "view-in-github",
        "colab_type": "text"
      },
      "source": [
        "<a href=\"https://colab.research.google.com/github/hemanthsai831/AI-Based-Campus-Automation-Bot/blob/main/AI_Based_Campus_Automation_Bot_code.ipynb\" target=\"_parent\"><img src=\"https://colab.research.google.com/assets/colab-badge.svg\" alt=\"Open In Colab\"/></a>"
      ]
    },
    {
      "cell_type": "code",
      "execution_count": 1,
      "metadata": {
        "colab": {
          "base_uri": "https://localhost:8080/",
          "height": 133,
          "referenced_widgets": [
            "4b26bbad55bc47a8bdb37de6b5adada5",
            "9d9ff4b60c5c4af581adf72539100129",
            "368e9beaeb154328aec9b8bdd6e1a1f0",
            "00b02f043b3c442a89e47b77ea9a3f89",
            "d1a46dff137d4feea33cf3ef7a6b2dcb",
            "540ac22339654c398db62653e0142299",
            "d9807fbb4c604284b588437e7cadcf2e",
            "6b3ed45abc534ba8b40d04c2c2c8a7b5",
            "f58f8c543a3d4ecf9e90ef198c88c24e",
            "3abf7098f21c48739c0fd7edb533026b",
            "5681f1e4a7754a089263da1dae43ddf5"
          ]
        },
        "id": "AfPEdKWmfwBI",
        "outputId": "d939f824-197a-456b-ca3d-b87075cd15ea"
      },
      "outputs": [
        {
          "output_type": "stream",
          "name": "stdout",
          "text": [
            "Hi! I'm your Campus Automation Bot 🤖\n",
            "How can I assist you today?\n"
          ]
        },
        {
          "output_type": "display_data",
          "data": {
            "text/plain": [
              "Dropdown(description='Choose:', layout=Layout(width='60%'), options=(('Select an option', ''), ('1. Show Class…"
            ],
            "application/vnd.jupyter.widget-view+json": {
              "version_major": 2,
              "version_minor": 0,
              "model_id": "4b26bbad55bc47a8bdb37de6b5adada5"
            }
          },
          "metadata": {}
        },
        {
          "output_type": "display_data",
          "data": {
            "text/plain": [
              "Output()"
            ],
            "application/vnd.jupyter.widget-view+json": {
              "version_major": 2,
              "version_minor": 0,
              "model_id": "00b02f043b3c442a89e47b77ea9a3f89"
            }
          },
          "metadata": {}
        }
      ],
      "source": [
        "import ipywidgets as widgets\n",
        "from IPython.display import display, clear_output\n",
        "\n",
        "schedule = {\n",
        "    \"Monday\": \"9AM - Math, 11AM - Physics, 2PM - Programming\",\n",
        "    \"Tuesday\": \"10AM - English, 12PM - Electronics\",\n",
        "    \"Wednesday\": \"9AM - Programming, 1PM - Lab\",\n",
        "    \"Thursday\": \"10AM - Communication Skills, 2PM - Seminar\",\n",
        "    \"Friday\": \"9AM - Engineering Drawing, 12PM - Physics\"\n",
        "}\n",
        "\n",
        "contacts = {\n",
        "    \"Dr. Sharma\": \"sharma@university.edu\",\n",
        "    \"Prof. Ramesh\": \"ramesh@university.edu\",\n",
        "    \"Ms. Priya\": \"priya@university.edu\"\n",
        "}\n",
        "\n",
        "menu = widgets.Dropdown(\n",
        "    options=[\n",
        "        ('Select an option', ''),\n",
        "        ('1. Show Class Schedule', '1'),\n",
        "        ('2. Campus News', '2'),\n",
        "        ('3. Faculty Contact', '3'),\n",
        "        ('4. Exit', '4')\n",
        "    ],\n",
        "    description='Choose:',\n",
        "    style={'description_width': 'initial'},\n",
        "    layout=widgets.Layout(width='60%')\n",
        ")\n",
        "\n",
        "output_box = widgets.Output()\n",
        "\n",
        "def show_schedule():\n",
        "    with output_box:\n",
        "        clear_output()\n",
        "        print(\"📅 Class Schedule\")\n",
        "        day_selector = widgets.Dropdown(options=list(schedule.keys()), description='Day:')\n",
        "        confirm_button = widgets.Button(description=\"Show Schedule\")\n",
        "\n",
        "        def on_confirm_clicked(b):\n",
        "            clear_output()\n",
        "            print(f\"Schedule for {day_selector.value}:\")\n",
        "            print(schedule[day_selector.value])\n",
        "            display(menu)\n",
        "\n",
        "        confirm_button.on_click(on_confirm_clicked)\n",
        "        display(day_selector, confirm_button)\n",
        "\n",
        "def campus_news():\n",
        "    with output_box:\n",
        "        clear_output()\n",
        "        print(\"\\n📢 Campus News:\")\n",
        "        print(\"- Mid-semester exams start next Monday.\")\n",
        "        print(\"- TechFest registrations open!\")\n",
        "        print(\"- Library will be closed on Friday.\\n\")\n",
        "        display(menu)\n",
        "\n",
        "def faculty_contact():\n",
        "    with output_box:\n",
        "        clear_output()\n",
        "        print(\"👨‍🏫 Faculty Contact Info\")\n",
        "        faculty_selector = widgets.Dropdown(options=list(contacts.keys()), description='Faculty:')\n",
        "        confirm_button = widgets.Button(description=\"Get Contact\")\n",
        "\n",
        "        def on_confirm_clicked(b):\n",
        "            clear_output()\n",
        "            name = faculty_selector.value\n",
        "            print(f\"Contact for {name}: {contacts[name]}\")\n",
        "            display(menu)\n",
        "\n",
        "        confirm_button.on_click(on_confirm_clicked)\n",
        "        display(faculty_selector, confirm_button)\n",
        "\n",
        "def on_menu_change(change):\n",
        "    if change['new'] == '':\n",
        "        return\n",
        "    choice = change['new']\n",
        "    if choice == '1':\n",
        "        show_schedule()\n",
        "    elif choice == '2':\n",
        "        campus_news()\n",
        "    elif choice == '3':\n",
        "        faculty_contact()\n",
        "    elif choice == '4':\n",
        "        with output_box:\n",
        "            clear_output()\n",
        "            print(\"Goodbye! Have a great day! 👋\")\n",
        "        menu.disabled = True\n",
        "\n",
        "menu.observe(on_menu_change, names='value')\n",
        "\n",
        "print(\"Hi! I'm your Campus Automation Bot 🤖\")\n",
        "print(\"How can I assist you today?\")\n",
        "display(menu, output_box)"
      ]
    }
  ]
}